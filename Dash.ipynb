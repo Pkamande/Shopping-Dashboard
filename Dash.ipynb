{
 "cells": [
  {
   "cell_type": "code",
   "execution_count": 2,
   "metadata": {},
   "outputs": [],
   "source": [
    "import dash\n",
    "from dash import dash as dcc\n",
    "from dash import html as html\n",
    "import pandas as pd\n",
    "import plotly.graph_objs as go"
   ]
  },
  {
   "cell_type": "code",
   "execution_count": 1,
   "metadata": {},
   "outputs": [
    {
     "ename": "NameError",
     "evalue": "name 'pd' is not defined",
     "output_type": "error",
     "traceback": [
      "\u001b[1;31m---------------------------------------------------------------------------\u001b[0m",
      "\u001b[1;31mNameError\u001b[0m                                 Traceback (most recent call last)",
      "Cell \u001b[1;32mIn[1], line 1\u001b[0m\n\u001b[1;32m----> 1\u001b[0m df \u001b[38;5;241m=\u001b[39m \u001b[43mpd\u001b[49m\u001b[38;5;241m.\u001b[39mread_csv(\n\u001b[0;32m      2\u001b[0m    \u001b[38;5;124m'\u001b[39m\u001b[38;5;124mhttps://gist.githubusercontent.com/chriddyp/\u001b[39m\u001b[38;5;124m'\u001b[39m\n\u001b[0;32m      3\u001b[0m    \u001b[38;5;124m'\u001b[39m\u001b[38;5;124mc78bf172206ce24f77d6363a2d754b59/raw/\u001b[39m\u001b[38;5;124m'\u001b[39m\n\u001b[0;32m      4\u001b[0m    \u001b[38;5;124m'\u001b[39m\u001b[38;5;124mc353e8ef842413cae56ae3920b8fd78468aa4cb2/\u001b[39m\u001b[38;5;124m'\u001b[39m\n\u001b[0;32m      5\u001b[0m    \u001b[38;5;124m'\u001b[39m\u001b[38;5;124musa-agricultural-exports-2011.csv\u001b[39m\u001b[38;5;124m'\u001b[39m)\n\u001b[0;32m      7\u001b[0m \u001b[38;5;28;01mdef\u001b[39;00m \u001b[38;5;21mgenerate_table\u001b[39m(dataframe, max_rows\u001b[38;5;241m=\u001b[39m\u001b[38;5;241m11\u001b[39m):\n\u001b[0;32m      8\u001b[0m    \u001b[38;5;28;01mreturn\u001b[39;00m html\u001b[38;5;241m.\u001b[39mTable(\n\u001b[0;32m      9\u001b[0m       \u001b[38;5;66;03m# Header\u001b[39;00m\n\u001b[0;32m     10\u001b[0m       [html\u001b[38;5;241m.\u001b[39mTr([html\u001b[38;5;241m.\u001b[39mTh(col) \u001b[38;5;28;01mfor\u001b[39;00m col \u001b[38;5;129;01min\u001b[39;00m dataframe\u001b[38;5;241m.\u001b[39mcolumns])] \u001b[38;5;241m+\u001b[39m\n\u001b[1;32m   (...)\u001b[0m\n\u001b[0;32m     14\u001b[0m       ]) \u001b[38;5;28;01mfor\u001b[39;00m i \u001b[38;5;129;01min\u001b[39;00m \u001b[38;5;28mrange\u001b[39m(\u001b[38;5;28mmin\u001b[39m(\u001b[38;5;28mlen\u001b[39m(dataframe), max_rows))]\n\u001b[0;32m     15\u001b[0m    )\n",
      "\u001b[1;31mNameError\u001b[0m: name 'pd' is not defined"
     ]
    }
   ],
   "source": [
    "df = pd.read_csv(\n",
    "   'https://gist.githubusercontent.com/chriddyp/'\n",
    "   'c78bf172206ce24f77d6363a2d754b59/raw/'\n",
    "   'c353e8ef842413cae56ae3920b8fd78468aa4cb2/'\n",
    "   'usa-agricultural-exports-2011.csv')\n",
    "\t\n",
    "def generate_table(dataframe, max_rows=11):\n",
    "   return html.Table(\n",
    "      # Header\n",
    "      [html.Tr([html.Th(col) for col in dataframe.columns])] +\n",
    "      # Body\n",
    "      [html.Tr([\n",
    "         html.Td(dataframe.iloc[i][col]) for col in dataframe.columns\n",
    "      ]) for i in range(min(len(dataframe), max_rows))]\n",
    "   )\n",
    "\t\n",
    "app = dash.Dash()\n",
    "app.layout = html.Div(children=[\n",
    "   html.H4(children='US Agriculture Exports (2011)'),\n",
    "   generate_table(df)\n",
    "])\n",
    "\n",
    "if __name__ == '__main__':\n",
    "   app.run_server(debug=True)"
   ]
  }
 ],
 "metadata": {
  "kernelspec": {
   "display_name": "Python 3",
   "language": "python",
   "name": "python3"
  },
  "language_info": {
   "codemirror_mode": {
    "name": "ipython",
    "version": 3
   },
   "file_extension": ".py",
   "mimetype": "text/x-python",
   "name": "python",
   "nbconvert_exporter": "python",
   "pygments_lexer": "ipython3",
   "version": "3.12.4"
  }
 },
 "nbformat": 4,
 "nbformat_minor": 2
}
